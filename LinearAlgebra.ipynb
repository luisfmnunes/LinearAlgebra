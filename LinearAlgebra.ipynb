{
  "nbformat": 4,
  "nbformat_minor": 0,
  "metadata": {
    "colab": {
      "name": "LinearAlgebra.ipynb",
      "provenance": [],
      "collapsed_sections": [],
      "authorship_tag": "ABX9TyO880GxILujPdpO4S+knnaa",
      "include_colab_link": true
    },
    "kernelspec": {
      "name": "python3",
      "display_name": "Python 3"
    },
    "language_info": {
      "name": "python"
    }
  },
  "cells": [
    {
      "cell_type": "markdown",
      "metadata": {
        "id": "view-in-github",
        "colab_type": "text"
      },
      "source": [
        "<a href=\"https://colab.research.google.com/github/luisfmnunes/LinearAlgebra/blob/main/LinearAlgebra.ipynb\" target=\"_parent\"><img src=\"https://colab.research.google.com/assets/colab-badge.svg\" alt=\"Open In Colab\"/></a>"
      ]
    },
    {
      "cell_type": "markdown",
      "source": [
        "# Determinants\n",
        "Determinants represent a propertie from matrixes that carry a whole lot of information about these matrixes (such as if it is invertible or singular, representing the matriz volume, etc) and are further used for the development of other properties such as eigenvalues.\n",
        "\n",
        "This notebook aims to implement the determinant calculation of any **n** x **n** matrix using cofactors algorithm.\n"
      ],
      "metadata": {
        "id": "rZAmQl_qIlBq"
      }
    },
    {
      "cell_type": "code",
      "execution_count": 1,
      "metadata": {
        "id": "KEFQ-5wBIdZY"
      },
      "outputs": [],
      "source": [
        "import numpy as np"
      ]
    },
    {
      "cell_type": "code",
      "source": [
        "def is_square(matrix):\n",
        "  if isinstance(matrix, list):\n",
        "    matrix = np.array(matrix)\n",
        "  if isinstance(matrix, np.ndarray):\n",
        "    if (len(matrix.shape) != 2):\n",
        "      raise ValueError(f\"Matrix Dimension mismatch. Expected 2, got {len(matrix.shape)}.\")\n",
        "    if not (matrix.shape[0] == matrix.shape[1]):\n",
        "      raise ValueError(f\"Matrix isn't Square. ({matrix.shape[0]}x{matrix.shape[1]})\")\n",
        "  else:\n",
        "    raise ValueError(f\"Expected list/ndarray types got {type(matrix)}\")\n",
        "  return True"
      ],
      "metadata": {
        "id": "ZPACuVD3J1Ks"
      },
      "execution_count": 2,
      "outputs": []
    },
    {
      "cell_type": "markdown",
      "source": [
        "## Cofactoring\n",
        "\n",
        "The idea of cofactoring the matrix consists in reducing the dimensionality of the matrix by one by using one of the properties of the deteminant, property 3(b) according to Gilbert Strang."
      ],
      "metadata": {
        "id": "cwB80w1KWJ9S"
      }
    },
    {
      "cell_type": "code",
      "source": [
        "def get_cofactor(matrix, row, col):\n",
        "  return np.delete(np.delete(matrix, row, axis=0), col, axis=1)"
      ],
      "metadata": {
        "id": "wXpAIHQIZ2_v"
      },
      "execution_count": 3,
      "outputs": []
    },
    {
      "cell_type": "code",
      "source": [
        "# def cofactor(matrix, i, j):\n",
        "  "
      ],
      "metadata": {
        "id": "Ojtu18AHiaOU"
      },
      "execution_count": 4,
      "outputs": []
    },
    {
      "cell_type": "code",
      "source": [
        "def determinant(matrix):\n",
        "  if matrix.size == 0:\n",
        "    return 1\n",
        "  sum = 0\n",
        "  for j, m_ij in enumerate(matrix[0]):\n",
        "      # if not m_ij:\n",
        "      #   sum = 0\n",
        "      #   break\n",
        "      # else:\n",
        "        sum += (-1)**(j)*m_ij*determinant(get_cofactor(matrix, 0, j))\n",
        "  return sum"
      ],
      "metadata": {
        "id": "56sEKKdKLWrA"
      },
      "execution_count": 17,
      "outputs": []
    },
    {
      "cell_type": "code",
      "source": [
        "r = np.random.randn(3,3)"
      ],
      "metadata": {
        "id": "N8Rpq6xBLYKL"
      },
      "execution_count": 6,
      "outputs": []
    },
    {
      "cell_type": "code",
      "source": [
        "determinant(np.array([[1,2],[3,4]]))"
      ],
      "metadata": {
        "colab": {
          "base_uri": "https://localhost:8080/"
        },
        "id": "vQn7GX98ZZUD",
        "outputId": "0b3b7228-1fdf-4970-aac1-3b08ed344526"
      },
      "execution_count": 7,
      "outputs": [
        {
          "output_type": "execute_result",
          "data": {
            "text/plain": [
              "-2"
            ]
          },
          "metadata": {},
          "execution_count": 7
        }
      ]
    },
    {
      "cell_type": "code",
      "source": [
        "determinant(np.array([[5,4,3],[1,1,1],[1,2,1]]))"
      ],
      "metadata": {
        "colab": {
          "base_uri": "https://localhost:8080/"
        },
        "id": "LDihjfZpaKzu",
        "outputId": "b168a903-3749-47ef-82ed-10f2e8cbb0c8"
      },
      "execution_count": 8,
      "outputs": [
        {
          "output_type": "execute_result",
          "data": {
            "text/plain": [
              "-2"
            ]
          },
          "metadata": {},
          "execution_count": 8
        }
      ]
    },
    {
      "cell_type": "code",
      "source": [
        "determinant(np.array([[1,1,1],[2,2,2],[4,7,9]]))"
      ],
      "metadata": {
        "id": "bXKuTljvpltq",
        "colab": {
          "base_uri": "https://localhost:8080/"
        },
        "outputId": "54e30605-040c-4be0-aba2-22f797209074"
      },
      "execution_count": 9,
      "outputs": [
        {
          "output_type": "execute_result",
          "data": {
            "text/plain": [
              "0"
            ]
          },
          "metadata": {},
          "execution_count": 9
        }
      ]
    },
    {
      "cell_type": "markdown",
      "source": [
        "# Inverse Matrix by Determinant\n",
        "\n",
        "Well, one of the properties of the determinant easily proven by the properties of the determinant is that the inverse matrix can be obtained by the following expression:\n",
        "\n",
        "<p align=center>\n",
        "  <img src=\"https://latex.codecogs.com/svg.image?A^{-1}&space;=&space;\\frac{1}{det(A)}C^{T}\">\n",
        "</p>\n",
        "\n",
        "This matrix C is called the minor-matrix composed by the determinant of the cofactors from each position in the matrix. The cofactor matrix is the resultant value after applying the signals according if the sum of column and row index is odd or even. Finally by transposing the cofactor matrix (C<sup>T</sup>), the inverser matrix is obtained by dividing the cofactor matrix from the determinant of the original matrix."
      ],
      "metadata": {
        "id": "2LZ4o8pxrNu-"
      }
    },
    {
      "cell_type": "code",
      "source": [
        "def inverse_matrix(matrix):\n",
        "  det = determinant(matrix)\n",
        "  if not det:\n",
        "    raise ValueError(\"Singular Matrix isn't inversible!!\")\n",
        "  cofat = np.zeros(matrix.shape)\n",
        "  for i, row in enumerate(matrix):\n",
        "    for j, _ in enumerate(row):\n",
        "      cofat[j,i] = (-1)**(i+j)*determinant(get_cofactor(matrix,i,j))\n",
        "\n",
        "  return cofat/det"
      ],
      "metadata": {
        "id": "Foolu9G74HVo"
      },
      "execution_count": 23,
      "outputs": []
    },
    {
      "cell_type": "code",
      "source": [
        "A = np.array([[3, 0, 2],\n",
        "              [2, 0, -2],\n",
        "              [0, 1, 1]])\n",
        "A_inv = inverse_matrix(A)\n",
        "print(A_inv)"
      ],
      "metadata": {
        "colab": {
          "base_uri": "https://localhost:8080/"
        },
        "id": "_ZYH_iyThlDe",
        "outputId": "cf634998-b778-4cb8-e072-c604e94d507b"
      },
      "execution_count": 24,
      "outputs": [
        {
          "output_type": "stream",
          "name": "stdout",
          "text": [
            "[[ 0.2  0.2  0. ]\n",
            " [-0.2  0.3  1. ]\n",
            " [ 0.2 -0.3  0. ]]\n"
          ]
        }
      ]
    },
    {
      "cell_type": "code",
      "source": [
        "B = np.array([[1,1,0,0],\n",
        "              [0,1,1,0],\n",
        "              [1,0,0,1],\n",
        "              [0,1,0,1]])\n",
        "B_inv = inverse_matrix(B)\n",
        "print(f\"det B = {determinant(B)} \\n {B} \\n det B^(-1) = {determinant(B_inv)} \\n {B_inv}\")"
      ],
      "metadata": {
        "colab": {
          "base_uri": "https://localhost:8080/"
        },
        "id": "oCxby8jQiBv7",
        "outputId": "88df291b-0939-41d9-c58d-ea8d3d1decce"
      },
      "execution_count": 27,
      "outputs": [
        {
          "output_type": "stream",
          "name": "stdout",
          "text": [
            "det B = 2 \n",
            " [[1 1 0 0]\n",
            " [0 1 1 0]\n",
            " [1 0 0 1]\n",
            " [0 1 0 1]] \n",
            " det B^(-1) = 0.5 \n",
            " [[ 0.5  0.   0.5 -0.5]\n",
            " [ 0.5  0.  -0.5  0.5]\n",
            " [-0.5  1.   0.5 -0.5]\n",
            " [-0.5  0.   0.5  0.5]]\n"
          ]
        }
      ]
    },
    {
      "cell_type": "code",
      "source": [
        ""
      ],
      "metadata": {
        "id": "9gv9dKTdl1Zm"
      },
      "execution_count": null,
      "outputs": []
    }
  ]
}